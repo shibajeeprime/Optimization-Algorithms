{
 "cells": [
  {
   "cell_type": "markdown",
   "metadata": {},
   "source": [
    "# Assignment 1"
   ]
  },
  {
   "cell_type": "code",
   "execution_count": 93,
   "metadata": {},
   "outputs": [],
   "source": [
    "import math\n",
    "import pandas as pd\n",
    "import numpy as np\n",
    "import matplotlib.pyplot as plt\n",
    "\n",
    "from scipy.constants import golden"
   ]
  },
  {
   "cell_type": "code",
   "execution_count": 12,
   "metadata": {},
   "outputs": [],
   "source": [
    "def f(x):\n",
    "    return x**2 + 2*x"
   ]
  },
  {
   "cell_type": "code",
   "execution_count": 10,
   "metadata": {},
   "outputs": [],
   "source": [
    "start_left = -3\n",
    "start_right = 5\n",
    "n = 10"
   ]
  },
  {
   "cell_type": "markdown",
   "metadata": {},
   "source": [
    "### Implementing Fibonacci Search"
   ]
  },
  {
   "cell_type": "code",
   "execution_count": 66,
   "metadata": {},
   "outputs": [],
   "source": [
    "def fib_search(func, left, right, n_iterations, epsilon = 0.01):\n",
    "    \n",
    "    a = []\n",
    "    b = []\n",
    "    l = []\n",
    "    m = []\n",
    "    fl = []\n",
    "    fm = []\n",
    "    o_index = []\n",
    "    \n",
    "    s = (1-math.sqrt(5))/(1+math.sqrt(5))\n",
    "    p = 1/(golden*(1-s**(n_iterations+1))/(1-s**n_iterations))\n",
    "    \n",
    "    d = p*right + (1-p)*left\n",
    "    fd = func(d)\n",
    "    \n",
    "    for i in range(0, n_iterations-1):\n",
    "        \n",
    "        if(i==n_iterations-1):\n",
    "            c = epsilon*left + (1-epsilon)*d\n",
    "        else:\n",
    "            c = p*left + (1-p)*right\n",
    "            \n",
    "        fc = func(c)    \n",
    "            \n",
    "        a.append(left)\n",
    "        b.append(right)\n",
    "        l.append(c)\n",
    "        m.append(d)\n",
    "        fl.append(fc)\n",
    "        fm.append(fd)\n",
    "        o_index.append(i+1)   \n",
    "        \n",
    "        if(fc<fd):\n",
    "            right, d, fd = d, c, fc\n",
    "        else:\n",
    "            left, right = right, c\n",
    "            \n",
    "        p = 1/(golden*(1-s**(n_iterations-i+1))/(1-s**(n_iterations-i)))   \n",
    "        \n",
    "    comp_table_pd = pd.DataFrame(list(zip(a, b, l, m, fl, fm)), index = o_index, columns = ['a', 'b', 'l', 'm', 'f_l', 'f_m'])\n",
    "    \n",
    "    if(left< right):\n",
    "        return (left, right, comp_table_pd)\n",
    "    else:\n",
    "        return (right, left, comp_table_pd)"
   ]
  },
  {
   "cell_type": "code",
   "execution_count": 80,
   "metadata": {},
   "outputs": [],
   "source": [
    "n = 20\n",
    "interval_left_fs, interval_right_fs, comp_tab_fs = fib_search(f, start_left, start_right, n)"
   ]
  },
  {
   "cell_type": "code",
   "execution_count": 81,
   "metadata": {},
   "outputs": [
    {
     "name": "stdout",
     "output_type": "stream",
     "text": [
      "-0.9998870723231915\n"
     ]
    }
   ],
   "source": [
    "optima_fs = (interval_left_fs + interval_right_fs)/2\n",
    "print(optima_fs)"
   ]
  },
  {
   "cell_type": "code",
   "execution_count": 83,
   "metadata": {},
   "outputs": [
    {
     "data": {
      "text/html": [
       "<div>\n",
       "<style scoped>\n",
       "    .dataframe tbody tr th:only-of-type {\n",
       "        vertical-align: middle;\n",
       "    }\n",
       "\n",
       "    .dataframe tbody tr th {\n",
       "        vertical-align: top;\n",
       "    }\n",
       "\n",
       "    .dataframe thead th {\n",
       "        text-align: right;\n",
       "    }\n",
       "</style>\n",
       "<table border=\"1\" class=\"dataframe\">\n",
       "  <thead>\n",
       "    <tr style=\"text-align: right;\">\n",
       "      <th></th>\n",
       "      <th>a</th>\n",
       "      <th>b</th>\n",
       "      <th>l</th>\n",
       "      <th>m</th>\n",
       "      <th>f_l</th>\n",
       "      <th>f_m</th>\n",
       "    </tr>\n",
       "  </thead>\n",
       "  <tbody>\n",
       "    <tr>\n",
       "      <th>1</th>\n",
       "      <td>-3.000000</td>\n",
       "      <td>5.000000</td>\n",
       "      <td>0.055728</td>\n",
       "      <td>1.944272</td>\n",
       "      <td>0.114562</td>\n",
       "      <td>7.668737</td>\n",
       "    </tr>\n",
       "    <tr>\n",
       "      <th>2</th>\n",
       "      <td>-3.000000</td>\n",
       "      <td>1.944272</td>\n",
       "      <td>-1.111456</td>\n",
       "      <td>0.055728</td>\n",
       "      <td>-0.987578</td>\n",
       "      <td>0.114562</td>\n",
       "    </tr>\n",
       "    <tr>\n",
       "      <th>3</th>\n",
       "      <td>-3.000000</td>\n",
       "      <td>0.055728</td>\n",
       "      <td>-1.832816</td>\n",
       "      <td>-1.111456</td>\n",
       "      <td>-0.306418</td>\n",
       "      <td>-0.987578</td>\n",
       "    </tr>\n",
       "    <tr>\n",
       "      <th>4</th>\n",
       "      <td>0.055728</td>\n",
       "      <td>-1.832816</td>\n",
       "      <td>-0.665631</td>\n",
       "      <td>-1.111456</td>\n",
       "      <td>-0.888198</td>\n",
       "      <td>-0.987578</td>\n",
       "    </tr>\n",
       "    <tr>\n",
       "      <th>5</th>\n",
       "      <td>-1.832816</td>\n",
       "      <td>-0.665631</td>\n",
       "      <td>-1.386991</td>\n",
       "      <td>-1.111456</td>\n",
       "      <td>-0.850238</td>\n",
       "      <td>-0.987578</td>\n",
       "    </tr>\n",
       "    <tr>\n",
       "      <th>6</th>\n",
       "      <td>-0.665631</td>\n",
       "      <td>-1.386991</td>\n",
       "      <td>-0.941166</td>\n",
       "      <td>-1.111456</td>\n",
       "      <td>-0.996539</td>\n",
       "      <td>-0.987578</td>\n",
       "    </tr>\n",
       "    <tr>\n",
       "      <th>7</th>\n",
       "      <td>-0.665631</td>\n",
       "      <td>-1.111456</td>\n",
       "      <td>-0.835921</td>\n",
       "      <td>-0.941166</td>\n",
       "      <td>-0.973078</td>\n",
       "      <td>-0.996539</td>\n",
       "    </tr>\n",
       "    <tr>\n",
       "      <th>8</th>\n",
       "      <td>-1.111456</td>\n",
       "      <td>-0.835921</td>\n",
       "      <td>-1.006211</td>\n",
       "      <td>-0.941166</td>\n",
       "      <td>-0.999961</td>\n",
       "      <td>-0.996539</td>\n",
       "    </tr>\n",
       "    <tr>\n",
       "      <th>9</th>\n",
       "      <td>-1.111456</td>\n",
       "      <td>-0.941166</td>\n",
       "      <td>-1.046412</td>\n",
       "      <td>-1.006211</td>\n",
       "      <td>-0.997846</td>\n",
       "      <td>-0.999961</td>\n",
       "    </tr>\n",
       "  </tbody>\n",
       "</table>\n",
       "</div>"
      ],
      "text/plain": [
       "          a         b         l         m       f_l       f_m\n",
       "1 -3.000000  5.000000  0.055728  1.944272  0.114562  7.668737\n",
       "2 -3.000000  1.944272 -1.111456  0.055728 -0.987578  0.114562\n",
       "3 -3.000000  0.055728 -1.832816 -1.111456 -0.306418 -0.987578\n",
       "4  0.055728 -1.832816 -0.665631 -1.111456 -0.888198 -0.987578\n",
       "5 -1.832816 -0.665631 -1.386991 -1.111456 -0.850238 -0.987578\n",
       "6 -0.665631 -1.386991 -0.941166 -1.111456 -0.996539 -0.987578\n",
       "7 -0.665631 -1.111456 -0.835921 -0.941166 -0.973078 -0.996539\n",
       "8 -1.111456 -0.835921 -1.006211 -0.941166 -0.999961 -0.996539\n",
       "9 -1.111456 -0.941166 -1.046412 -1.006211 -0.997846 -0.999961"
      ]
     },
     "execution_count": 83,
     "metadata": {},
     "output_type": "execute_result"
    }
   ],
   "source": [
    "comp_tab_fs[:9]"
   ]
  },
  {
   "cell_type": "code",
   "execution_count": 89,
   "metadata": {},
   "outputs": [
    {
     "data": {
      "text/plain": [
       "1     8.000000\n",
       "2     4.944272\n",
       "3     3.055728\n",
       "4     1.888544\n",
       "5     1.167184\n",
       "6     0.721360\n",
       "7     0.445825\n",
       "8     0.275535\n",
       "9     0.170290\n",
       "10    0.105245\n",
       "11    0.065044\n",
       "12    0.040201\n",
       "13    0.024843\n",
       "14    0.015358\n",
       "15    0.009486\n",
       "16    0.005872\n",
       "17    0.003614\n",
       "18    0.002258\n",
       "19    0.001355\n",
       "dtype: float64"
      ]
     },
     "execution_count": 89,
     "metadata": {},
     "output_type": "execute_result"
    }
   ],
   "source": [
    "inter_len_fs = np.abs(comp_tab_fs['a']-comp_tab_fs['b'])\n",
    "inter_len_fs"
   ]
  },
  {
   "cell_type": "code",
   "execution_count": 91,
   "metadata": {},
   "outputs": [
    {
     "data": {
      "image/png": "[encoded data removed]",
      "text/plain": [
       "<Figure size 432x288 with 1 Axes>"
      ]
     },
     "metadata": {
      "needs_background": "light"
     },
     "output_type": "display_data"
    }
   ],
   "source": [
    "plt.plot(inter_len_fs)\n",
    "plt.xlabel(\"Number of Iterations\")\n",
    "plt.ylabel(\"Interval Length\")\n",
    "plt.show()"
   ]
  },
  {
   "cell_type": "markdown",
   "metadata": {},
   "source": [
    "### Implementing Golden Search"
   ]
  },
  {
   "cell_type": "code",
   "execution_count": 44,
   "metadata": {},
   "outputs": [],
   "source": [
    "def golden_search(func, left, right, n_iterations): \n",
    "    \n",
    "    a = []\n",
    "    b = []\n",
    "    l = []\n",
    "    m = []\n",
    "    fl = []\n",
    "    fm = []\n",
    "    o_index = []\n",
    "    \n",
    "    p = golden-1\n",
    "    d = p * right + (1 - p)*left\n",
    "    fd = func(d)\n",
    "    \n",
    "    for i in range(0, n_iterations-1):\n",
    "        \n",
    "        c = p*left + (1-p)*right\n",
    "        fc = func(c)\n",
    "        \n",
    "        a.append(left)\n",
    "        b.append(right)\n",
    "        l.append(c)\n",
    "        m.append(d)\n",
    "        fl.append(fc)\n",
    "        fm.append(fd)\n",
    "        o_index.append(i+1)\n",
    "        \n",
    "        if(fc<fd):\n",
    "            right, d, fd = d, c, fc\n",
    "        else:\n",
    "            left, right = right, c\n",
    "    \n",
    "    comp_table_pd = pd.DataFrame(list(zip(a, b, l, m, fl, fm)), index = o_index, columns = ['a', 'b', 'l', 'm', 'f_l', 'f_m'])\n",
    "    \n",
    "    if(left< right):\n",
    "        return (left, right, comp_table_pd)\n",
    "    else:\n",
    "        return (right, left, comp_table_pd)"
   ]
  },
  {
   "cell_type": "code",
   "execution_count": 86,
   "metadata": {},
   "outputs": [],
   "source": [
    "n = 20\n",
    "interval_left_gs, interval_right_gs, comp_tab_gs = golden_search(f, start_left, start_right, n)"
   ]
  },
  {
   "cell_type": "code",
   "execution_count": 46,
   "metadata": {},
   "outputs": [
    {
     "name": "stdout",
     "output_type": "stream",
     "text": [
      "-1.0138887549322826\n"
     ]
    }
   ],
   "source": [
    "optima_gs = (interval_left_gs + interval_right_gs)/2\n",
    "print(optima_gs)"
   ]
  },
  {
   "cell_type": "code",
   "execution_count": 87,
   "metadata": {},
   "outputs": [
    {
     "data": {
      "text/html": [
       "<div>\n",
       "<style scoped>\n",
       "    .dataframe tbody tr th:only-of-type {\n",
       "        vertical-align: middle;\n",
       "    }\n",
       "\n",
       "    .dataframe tbody tr th {\n",
       "        vertical-align: top;\n",
       "    }\n",
       "\n",
       "    .dataframe thead th {\n",
       "        text-align: right;\n",
       "    }\n",
       "</style>\n",
       "<table border=\"1\" class=\"dataframe\">\n",
       "  <thead>\n",
       "    <tr style=\"text-align: right;\">\n",
       "      <th></th>\n",
       "      <th>a</th>\n",
       "      <th>b</th>\n",
       "      <th>l</th>\n",
       "      <th>m</th>\n",
       "      <th>f_l</th>\n",
       "      <th>f_m</th>\n",
       "    </tr>\n",
       "  </thead>\n",
       "  <tbody>\n",
       "    <tr>\n",
       "      <th>1</th>\n",
       "      <td>-3.000000</td>\n",
       "      <td>5.000000</td>\n",
       "      <td>0.055728</td>\n",
       "      <td>1.944272</td>\n",
       "      <td>0.114562</td>\n",
       "      <td>7.668737</td>\n",
       "    </tr>\n",
       "    <tr>\n",
       "      <th>2</th>\n",
       "      <td>-3.000000</td>\n",
       "      <td>1.944272</td>\n",
       "      <td>-1.111456</td>\n",
       "      <td>0.055728</td>\n",
       "      <td>-0.987578</td>\n",
       "      <td>0.114562</td>\n",
       "    </tr>\n",
       "    <tr>\n",
       "      <th>3</th>\n",
       "      <td>-3.000000</td>\n",
       "      <td>0.055728</td>\n",
       "      <td>-1.832816</td>\n",
       "      <td>-1.111456</td>\n",
       "      <td>-0.306418</td>\n",
       "      <td>-0.987578</td>\n",
       "    </tr>\n",
       "    <tr>\n",
       "      <th>4</th>\n",
       "      <td>0.055728</td>\n",
       "      <td>-1.832816</td>\n",
       "      <td>-0.665631</td>\n",
       "      <td>-1.111456</td>\n",
       "      <td>-0.888198</td>\n",
       "      <td>-0.987578</td>\n",
       "    </tr>\n",
       "    <tr>\n",
       "      <th>5</th>\n",
       "      <td>-1.832816</td>\n",
       "      <td>-0.665631</td>\n",
       "      <td>-1.386991</td>\n",
       "      <td>-1.111456</td>\n",
       "      <td>-0.850238</td>\n",
       "      <td>-0.987578</td>\n",
       "    </tr>\n",
       "    <tr>\n",
       "      <th>6</th>\n",
       "      <td>-0.665631</td>\n",
       "      <td>-1.386991</td>\n",
       "      <td>-0.941166</td>\n",
       "      <td>-1.111456</td>\n",
       "      <td>-0.996539</td>\n",
       "      <td>-0.987578</td>\n",
       "    </tr>\n",
       "    <tr>\n",
       "      <th>7</th>\n",
       "      <td>-0.665631</td>\n",
       "      <td>-1.111456</td>\n",
       "      <td>-0.835921</td>\n",
       "      <td>-0.941166</td>\n",
       "      <td>-0.973078</td>\n",
       "      <td>-0.996539</td>\n",
       "    </tr>\n",
       "    <tr>\n",
       "      <th>8</th>\n",
       "      <td>-1.111456</td>\n",
       "      <td>-0.835921</td>\n",
       "      <td>-1.006211</td>\n",
       "      <td>-0.941166</td>\n",
       "      <td>-0.999961</td>\n",
       "      <td>-0.996539</td>\n",
       "    </tr>\n",
       "    <tr>\n",
       "      <th>9</th>\n",
       "      <td>-1.111456</td>\n",
       "      <td>-0.941166</td>\n",
       "      <td>-1.046411</td>\n",
       "      <td>-1.006211</td>\n",
       "      <td>-0.997846</td>\n",
       "      <td>-0.999961</td>\n",
       "    </tr>\n",
       "  </tbody>\n",
       "</table>\n",
       "</div>"
      ],
      "text/plain": [
       "          a         b         l         m       f_l       f_m\n",
       "1 -3.000000  5.000000  0.055728  1.944272  0.114562  7.668737\n",
       "2 -3.000000  1.944272 -1.111456  0.055728 -0.987578  0.114562\n",
       "3 -3.000000  0.055728 -1.832816 -1.111456 -0.306418 -0.987578\n",
       "4  0.055728 -1.832816 -0.665631 -1.111456 -0.888198 -0.987578\n",
       "5 -1.832816 -0.665631 -1.386991 -1.111456 -0.850238 -0.987578\n",
       "6 -0.665631 -1.386991 -0.941166 -1.111456 -0.996539 -0.987578\n",
       "7 -0.665631 -1.111456 -0.835921 -0.941166 -0.973078 -0.996539\n",
       "8 -1.111456 -0.835921 -1.006211 -0.941166 -0.999961 -0.996539\n",
       "9 -1.111456 -0.941166 -1.046411 -1.006211 -0.997846 -0.999961"
      ]
     },
     "execution_count": 87,
     "metadata": {},
     "output_type": "execute_result"
    }
   ],
   "source": [
    "comp_tab_gs[:9]"
   ]
  },
  {
   "cell_type": "code",
   "execution_count": 88,
   "metadata": {},
   "outputs": [
    {
     "data": {
      "text/plain": [
       "1     8.000000\n",
       "2     4.944272\n",
       "3     3.055728\n",
       "4     1.888544\n",
       "5     1.167184\n",
       "6     0.721360\n",
       "7     0.445825\n",
       "8     0.275535\n",
       "9     0.170290\n",
       "10    0.105245\n",
       "11    0.065044\n",
       "12    0.040201\n",
       "13    0.024843\n",
       "14    0.015358\n",
       "15    0.009486\n",
       "16    0.005872\n",
       "17    0.003614\n",
       "18    0.002258\n",
       "19    0.001355\n",
       "dtype: float64"
      ]
     },
     "execution_count": 88,
     "metadata": {},
     "output_type": "execute_result"
    }
   ],
   "source": [
    "inter_len_gs = np.abs(comp_tab_fs['a']-comp_tab_fs['b'])\n",
    "inter_len_gs"
   ]
  },
  {
   "cell_type": "code",
   "execution_count": 92,
   "metadata": {},
   "outputs": [
    {
     "data": {
      "image/png": "[encoded data removed]",
      "text/plain": [
       "<Figure size 432x288 with 1 Axes>"
      ]
     },
     "metadata": {
      "needs_background": "light"
     },
     "output_type": "display_data"
    }
   ],
   "source": [
    "plt.plot(inter_len_gs)\n",
    "plt.xlabel(\"Number of Iterations\")\n",
    "plt.ylabel(\"Interval Length\")\n",
    "plt.show()"
   ]
  },
  {
   "cell_type": "markdown",
   "metadata": {},
   "source": [
    "### Verification of Golden Section Method"
   ]
  },
  {
   "cell_type": "code",
   "execution_count": 94,
   "metadata": {},
   "outputs": [],
   "source": [
    "from scipy.optimize import minimize_scalar"
   ]
  },
  {
   "cell_type": "code",
   "execution_count": 95,
   "metadata": {},
   "outputs": [
    {
     "data": {
      "text/plain": [
       "-0.9999999987444217"
      ]
     },
     "execution_count": 95,
     "metadata": {},
     "output_type": "execute_result"
    }
   ],
   "source": [
    "opt_gs_ms = minimize_scalar(fun = f, bracket = (start_left, start_right), method = \"golden\")\n",
    "opt_gs_ms.x"
   ]
  },
  {
   "cell_type": "markdown",
   "metadata": {},
   "source": [
    "# Assignment 2"
   ]
  },
  {
   "cell_type": "code",
   "execution_count": 144,
   "metadata": {},
   "outputs": [],
   "source": [
    "from scipy.optimize import line_search"
   ]
  },
  {
   "cell_type": "code",
   "execution_count": 145,
   "metadata": {},
   "outputs": [],
   "source": [
    "def f1(x):\n",
    "    return x[0]**2 + x[0]*x[1] + x[1]**2\n",
    "\n",
    "def g1(x):\n",
    "    a = 2*x[0] + x[1]\n",
    "    b = 2*x[1] + x[0]\n",
    "    return np.array([a,b])"
   ]
  },
  {
   "cell_type": "code",
   "execution_count": 146,
   "metadata": {},
   "outputs": [],
   "source": [
    "x_initial = np.array([1,2])\n",
    "dir_initial = np.array([-1,-1])\n",
    "cond_1 = 0.0001\n",
    "cond_2 = 0.9\n",
    "max_step = 10\n",
    "max_iter = 10\n",
    "reduc_fact = 0.5"
   ]
  },
  {
   "cell_type": "code",
   "execution_count": 147,
   "metadata": {},
   "outputs": [],
   "source": [
    "opt_ls = line_search(f = f1, myfprime = g1, xk = x_initial, pk = dir_initial, c1 = cond_1, c2 = cond_2, amax = max_step,\n",
    "                     maxiter = max_iter)"
   ]
  },
  {
   "cell_type": "code",
   "execution_count": 148,
   "metadata": {},
   "outputs": [],
   "source": [
    "alpha = opt_ls[0]\n",
    "opt = x_initial + alpha*dir_initial"
   ]
  },
  {
   "cell_type": "code",
   "execution_count": 149,
   "metadata": {},
   "outputs": [
    {
     "name": "stdout",
     "output_type": "stream",
     "text": [
      "The x co-ordinate of the optima is:  0.0\n",
      "The y co-ordinate of the optima is:  1.0\n"
     ]
    }
   ],
   "source": [
    "print(\"The x co-ordinate of the optima is: \", opt[0])\n",
    "print(\"The y co-ordinate of the optima is: \", opt[1])"
   ]
  },
  {
   "cell_type": "code",
   "execution_count": 150,
   "metadata": {},
   "outputs": [
    {
     "data": {
      "text/plain": [
       "(1.0, 2, 1, 1.0, 7.0, array([1., 2.]))"
      ]
     },
     "execution_count": 150,
     "metadata": {},
     "output_type": "execute_result"
    }
   ],
   "source": [
    "opt_ls"
   ]
  }
 ],
 "metadata": {
  "kernelspec": {
   "display_name": "Python 3",
   "language": "python",
   "name": "python3"
  },
  "language_info": {
   "codemirror_mode": {
    "name": "ipython",
    "version": 3
   },
   "file_extension": ".py",
   "mimetype": "text/x-python",
   "name": "python",
   "nbconvert_exporter": "python",
   "pygments_lexer": "ipython3",
   "version": "3.7.6"
  }
 },
 "nbformat": 4,
 "nbformat_minor": 5
}
